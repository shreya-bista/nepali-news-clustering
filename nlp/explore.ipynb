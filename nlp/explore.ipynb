{
 "cells": [
  {
   "cell_type": "code",
   "execution_count": 1,
   "metadata": {},
   "outputs": [
    {
     "name": "stdout",
     "output_type": "stream",
     "text": [
      "Populating the interactive namespace from numpy and matplotlib\n"
     ]
    }
   ],
   "source": [
    "%pylab inline\n",
    "import json\n",
    "import pandas as pd\n",
    "import numpy as np"
   ]
  },
  {
   "cell_type": "code",
   "execution_count": 2,
   "metadata": {},
   "outputs": [],
   "source": [
    "import re\n",
    "lst = [u'विश्व', u'समाचार', u'अर्थ', u'स्वास्थ्य', u'विज्ञान', u'मनोरञ्जन', u'उपत्यका', u'खेलकुद', u' / वाणिज्य']\n",
    "def correction(txt):\n",
    "    return txt.replace(u'\\u202f', '').replace(u'\\u200d', '').strip()\n",
    "\n",
    "def correct_ekantipur_title(txt):\n",
    "    for w in lst:\n",
    "        txt = re.sub(r'^%s'%w, '', txt)\n",
    "    return txt"
   ]
  },
  {
   "cell_type": "code",
   "execution_count": 3,
   "metadata": {},
   "outputs": [
    {
     "data": {
      "text/html": [
       "<div>\n",
       "<style scoped>\n",
       "    .dataframe tbody tr th:only-of-type {\n",
       "        vertical-align: middle;\n",
       "    }\n",
       "\n",
       "    .dataframe tbody tr th {\n",
       "        vertical-align: top;\n",
       "    }\n",
       "\n",
       "    .dataframe thead th {\n",
       "        text-align: right;\n",
       "    }\n",
       "</style>\n",
       "<table border=\"1\" class=\"dataframe\">\n",
       "  <thead>\n",
       "    <tr style=\"text-align: right;\">\n",
       "      <th></th>\n",
       "      <th>id</th>\n",
       "      <th>category</th>\n",
       "      <th>title</th>\n",
       "      <th>date_nepali</th>\n",
       "      <th>date_english</th>\n",
       "      <th>description</th>\n",
       "      <th>source</th>\n",
       "    </tr>\n",
       "  </thead>\n",
       "  <tbody>\n",
       "    <tr>\n",
       "      <th>0</th>\n",
       "      <td>ekantipur_61424493</td>\n",
       "      <td>world</td>\n",
       "      <td>अस्ट्रेलियाले थप १३ देशबाट कामदार भित्र्याउने,...</td>\n",
       "      <td>श्रावण १८, २०७६</td>\n",
       "      <td>2019/8/04</td>\n",
       "      <td>(अस्ट्रेलिया) — अस्ट्रेलियाले हाल प्रदान गर्दै...</td>\n",
       "      <td>ekantipur</td>\n",
       "    </tr>\n",
       "    <tr>\n",
       "      <th>1</th>\n",
       "      <td>ekantipur_84606642</td>\n",
       "      <td>world</td>\n",
       "      <td>सुरक्षा माग्दै हजारौं स्वास्थ्यकर्मी आन्दोलित</td>\n",
       "      <td>श्रावण १६, २०७६</td>\n",
       "      <td>2019/8/02</td>\n",
       "      <td>अस्ट्रेलिया — कार्यस्थलमा सुरक्षाको प्रत्याभूत...</td>\n",
       "      <td>ekantipur</td>\n",
       "    </tr>\n",
       "    <tr>\n",
       "      <th>2</th>\n",
       "      <td>ekantipur_65651897</td>\n",
       "      <td>world</td>\n",
       "      <td>बस बममा ठोकिदा ३४ को मृत्यु</td>\n",
       "      <td>श्रावण १५, २०७६</td>\n",
       "      <td>2019/8/01</td>\n",
       "      <td>हेरात, अफगानिस्तान — अफगानिस्तानको फरास प्रान्...</td>\n",
       "      <td>ekantipur</td>\n",
       "    </tr>\n",
       "    <tr>\n",
       "      <th>3</th>\n",
       "      <td>ekantipur_63346336</td>\n",
       "      <td>world</td>\n",
       "      <td>मोदीको कडा कदम : जम्मु–कश्मीरका विशेषाधिकार खोसिए</td>\n",
       "      <td>श्रावण २०, २०७६</td>\n",
       "      <td>2019/8/06</td>\n",
       "      <td>नयाँदिल्ली — भारत सरकारले उत्तरी राज्य जम्मु–क...</td>\n",
       "      <td>ekantipur</td>\n",
       "    </tr>\n",
       "    <tr>\n",
       "      <th>4</th>\n",
       "      <td>ekantipur_3510010</td>\n",
       "      <td>world</td>\n",
       "      <td>अमेरिकाको ओहायोमा पनि गोलीबारी, ९ जनाको मृत्यु...</td>\n",
       "      <td>श्रावण १९, २०७६</td>\n",
       "      <td>2019/8/05</td>\n",
       "      <td>काठमाडौँ — अमेरिकाको ओहायो राज्यको डेटन भन्ने ...</td>\n",
       "      <td>ekantipur</td>\n",
       "    </tr>\n",
       "  </tbody>\n",
       "</table>\n",
       "</div>"
      ],
      "text/plain": [
       "                   id category  \\\n",
       "0  ekantipur_61424493    world   \n",
       "1  ekantipur_84606642    world   \n",
       "2  ekantipur_65651897    world   \n",
       "3  ekantipur_63346336    world   \n",
       "4   ekantipur_3510010    world   \n",
       "\n",
       "                                               title      date_nepali  \\\n",
       "0  अस्ट्रेलियाले थप १३ देशबाट कामदार भित्र्याउने,...  श्रावण १८, २०७६   \n",
       "1      सुरक्षा माग्दै हजारौं स्वास्थ्यकर्मी आन्दोलित  श्रावण १६, २०७६   \n",
       "2                        बस बममा ठोकिदा ३४ को मृत्यु  श्रावण १५, २०७६   \n",
       "3  मोदीको कडा कदम : जम्मु–कश्मीरका विशेषाधिकार खोसिए  श्रावण २०, २०७६   \n",
       "4  अमेरिकाको ओहायोमा पनि गोलीबारी, ९ जनाको मृत्यु...  श्रावण १९, २०७६   \n",
       "\n",
       "  date_english                                        description     source  \n",
       "0    2019/8/04  (अस्ट्रेलिया) — अस्ट्रेलियाले हाल प्रदान गर्दै...  ekantipur  \n",
       "1    2019/8/02  अस्ट्रेलिया — कार्यस्थलमा सुरक्षाको प्रत्याभूत...  ekantipur  \n",
       "2    2019/8/01  हेरात, अफगानिस्तान — अफगानिस्तानको फरास प्रान्...  ekantipur  \n",
       "3    2019/8/06  नयाँदिल्ली — भारत सरकारले उत्तरी राज्य जम्मु–क...  ekantipur  \n",
       "4    2019/8/05  काठमाडौँ — अमेरिकाको ओहायो राज्यको डेटन भन्ने ...  ekantipur  "
      ]
     },
     "execution_count": 3,
     "metadata": {},
     "output_type": "execute_result"
    }
   ],
   "source": [
    "data = pd.read_json(\"../combined.json\", lines=True)\n",
    "data.title = data.title.apply(correction)\n",
    "data.subtitle = data.subtitle.apply(correction)\n",
    "data.description = data.description.apply(correction)\n",
    "data.title.loc[data.source=='ekantipur'] = data[data.source=='ekantipur'].title.apply(correct_ekantipur_title).values\n",
    "data.drop(['subtitle', 'url'], axis=1, inplace=True)\n",
    "data.head()"
   ]
  },
  {
   "cell_type": "code",
   "execution_count": 4,
   "metadata": {},
   "outputs": [
    {
     "data": {
      "text/html": [
       "<div>\n",
       "<style scoped>\n",
       "    .dataframe tbody tr th:only-of-type {\n",
       "        vertical-align: middle;\n",
       "    }\n",
       "\n",
       "    .dataframe tbody tr th {\n",
       "        vertical-align: top;\n",
       "    }\n",
       "\n",
       "    .dataframe thead th {\n",
       "        text-align: right;\n",
       "    }\n",
       "</style>\n",
       "<table border=\"1\" class=\"dataframe\">\n",
       "  <thead>\n",
       "    <tr style=\"text-align: right;\">\n",
       "      <th></th>\n",
       "      <th>source</th>\n",
       "      <th>counts</th>\n",
       "    </tr>\n",
       "  </thead>\n",
       "  <tbody>\n",
       "    <tr>\n",
       "      <th>0</th>\n",
       "      <td>ekantipur</td>\n",
       "      <td>4685</td>\n",
       "    </tr>\n",
       "    <tr>\n",
       "      <th>1</th>\n",
       "      <td>onlinekhabar</td>\n",
       "      <td>3820</td>\n",
       "    </tr>\n",
       "    <tr>\n",
       "      <th>2</th>\n",
       "      <td>setopati</td>\n",
       "      <td>2066</td>\n",
       "    </tr>\n",
       "  </tbody>\n",
       "</table>\n",
       "</div>"
      ],
      "text/plain": [
       "         source  counts\n",
       "0     ekantipur    4685\n",
       "1  onlinekhabar    3820\n",
       "2      setopati    2066"
      ]
     },
     "execution_count": 4,
     "metadata": {},
     "output_type": "execute_result"
    }
   ],
   "source": [
    "data.groupby('source').size().reset_index(name='counts')"
   ]
  },
  {
   "cell_type": "markdown",
   "metadata": {},
   "source": [
    "## Building a classifier for ekantipur for 5 categories"
   ]
  },
  {
   "cell_type": "code",
   "execution_count": 5,
   "metadata": {},
   "outputs": [
    {
     "data": {
      "text/html": [
       "<div>\n",
       "<style scoped>\n",
       "    .dataframe tbody tr th:only-of-type {\n",
       "        vertical-align: middle;\n",
       "    }\n",
       "\n",
       "    .dataframe tbody tr th {\n",
       "        vertical-align: top;\n",
       "    }\n",
       "\n",
       "    .dataframe thead th {\n",
       "        text-align: right;\n",
       "    }\n",
       "</style>\n",
       "<table border=\"1\" class=\"dataframe\">\n",
       "  <thead>\n",
       "    <tr style=\"text-align: right;\">\n",
       "      <th></th>\n",
       "      <th>category</th>\n",
       "      <th>counts</th>\n",
       "    </tr>\n",
       "  </thead>\n",
       "  <tbody>\n",
       "    <tr>\n",
       "      <th>0</th>\n",
       "      <td>business</td>\n",
       "      <td>790</td>\n",
       "    </tr>\n",
       "    <tr>\n",
       "      <th>1</th>\n",
       "      <td>entertainment</td>\n",
       "      <td>250</td>\n",
       "    </tr>\n",
       "    <tr>\n",
       "      <th>2</th>\n",
       "      <td>health</td>\n",
       "      <td>39</td>\n",
       "    </tr>\n",
       "    <tr>\n",
       "      <th>3</th>\n",
       "      <td>national</td>\n",
       "      <td>243</td>\n",
       "    </tr>\n",
       "    <tr>\n",
       "      <th>4</th>\n",
       "      <td>news</td>\n",
       "      <td>2384</td>\n",
       "    </tr>\n",
       "    <tr>\n",
       "      <th>5</th>\n",
       "      <td>sports</td>\n",
       "      <td>606</td>\n",
       "    </tr>\n",
       "    <tr>\n",
       "      <th>6</th>\n",
       "      <td>technology</td>\n",
       "      <td>21</td>\n",
       "    </tr>\n",
       "    <tr>\n",
       "      <th>7</th>\n",
       "      <td>world</td>\n",
       "      <td>352</td>\n",
       "    </tr>\n",
       "  </tbody>\n",
       "</table>\n",
       "</div>"
      ],
      "text/plain": [
       "        category  counts\n",
       "0       business     790\n",
       "1  entertainment     250\n",
       "2         health      39\n",
       "3       national     243\n",
       "4           news    2384\n",
       "5         sports     606\n",
       "6     technology      21\n",
       "7          world     352"
      ]
     },
     "execution_count": 5,
     "metadata": {},
     "output_type": "execute_result"
    }
   ],
   "source": [
    "df = data.query(\"source == 'ekantipur' \")\n",
    "df.groupby('category').size().reset_index(name='counts')"
   ]
  },
  {
   "cell_type": "code",
   "execution_count": 6,
   "metadata": {},
   "outputs": [
    {
     "data": {
      "text/html": [
       "<div>\n",
       "<style scoped>\n",
       "    .dataframe tbody tr th:only-of-type {\n",
       "        vertical-align: middle;\n",
       "    }\n",
       "\n",
       "    .dataframe tbody tr th {\n",
       "        vertical-align: top;\n",
       "    }\n",
       "\n",
       "    .dataframe thead th {\n",
       "        text-align: right;\n",
       "    }\n",
       "</style>\n",
       "<table border=\"1\" class=\"dataframe\">\n",
       "  <thead>\n",
       "    <tr style=\"text-align: right;\">\n",
       "      <th></th>\n",
       "      <th>id</th>\n",
       "      <th>category</th>\n",
       "      <th>title</th>\n",
       "      <th>date_nepali</th>\n",
       "      <th>date_english</th>\n",
       "      <th>description</th>\n",
       "      <th>source</th>\n",
       "    </tr>\n",
       "  </thead>\n",
       "  <tbody>\n",
       "    <tr>\n",
       "      <th>0</th>\n",
       "      <td>ekantipur_61424493</td>\n",
       "      <td>world</td>\n",
       "      <td>अस्ट्रेलियाले थप १३ देशबाट कामदार भित्र्याउने,...</td>\n",
       "      <td>श्रावण १८, २०७६</td>\n",
       "      <td>2019/8/04</td>\n",
       "      <td>(अस्ट्रेलिया) — अस्ट्रेलियाले हाल प्रदान गर्दै...</td>\n",
       "      <td>ekantipur</td>\n",
       "    </tr>\n",
       "    <tr>\n",
       "      <th>1</th>\n",
       "      <td>ekantipur_84606642</td>\n",
       "      <td>world</td>\n",
       "      <td>सुरक्षा माग्दै हजारौं स्वास्थ्यकर्मी आन्दोलित</td>\n",
       "      <td>श्रावण १६, २०७६</td>\n",
       "      <td>2019/8/02</td>\n",
       "      <td>अस्ट्रेलिया — कार्यस्थलमा सुरक्षाको प्रत्याभूत...</td>\n",
       "      <td>ekantipur</td>\n",
       "    </tr>\n",
       "    <tr>\n",
       "      <th>2</th>\n",
       "      <td>ekantipur_65651897</td>\n",
       "      <td>world</td>\n",
       "      <td>बस बममा ठोकिदा ३४ को मृत्यु</td>\n",
       "      <td>श्रावण १५, २०७६</td>\n",
       "      <td>2019/8/01</td>\n",
       "      <td>हेरात, अफगानिस्तान — अफगानिस्तानको फरास प्रान्...</td>\n",
       "      <td>ekantipur</td>\n",
       "    </tr>\n",
       "    <tr>\n",
       "      <th>3</th>\n",
       "      <td>ekantipur_63346336</td>\n",
       "      <td>world</td>\n",
       "      <td>मोदीको कडा कदम : जम्मु–कश्मीरका विशेषाधिकार खोसिए</td>\n",
       "      <td>श्रावण २०, २०७६</td>\n",
       "      <td>2019/8/06</td>\n",
       "      <td>नयाँदिल्ली — भारत सरकारले उत्तरी राज्य जम्मु–क...</td>\n",
       "      <td>ekantipur</td>\n",
       "    </tr>\n",
       "    <tr>\n",
       "      <th>4</th>\n",
       "      <td>ekantipur_3510010</td>\n",
       "      <td>world</td>\n",
       "      <td>अमेरिकाको ओहायोमा पनि गोलीबारी, ९ जनाको मृत्यु...</td>\n",
       "      <td>श्रावण १९, २०७६</td>\n",
       "      <td>2019/8/05</td>\n",
       "      <td>काठमाडौँ — अमेरिकाको ओहायो राज्यको डेटन भन्ने ...</td>\n",
       "      <td>ekantipur</td>\n",
       "    </tr>\n",
       "  </tbody>\n",
       "</table>\n",
       "</div>"
      ],
      "text/plain": [
       "                   id category  \\\n",
       "0  ekantipur_61424493    world   \n",
       "1  ekantipur_84606642    world   \n",
       "2  ekantipur_65651897    world   \n",
       "3  ekantipur_63346336    world   \n",
       "4   ekantipur_3510010    world   \n",
       "\n",
       "                                               title      date_nepali  \\\n",
       "0  अस्ट्रेलियाले थप १३ देशबाट कामदार भित्र्याउने,...  श्रावण १८, २०७६   \n",
       "1      सुरक्षा माग्दै हजारौं स्वास्थ्यकर्मी आन्दोलित  श्रावण १६, २०७६   \n",
       "2                        बस बममा ठोकिदा ३४ को मृत्यु  श्रावण १५, २०७६   \n",
       "3  मोदीको कडा कदम : जम्मु–कश्मीरका विशेषाधिकार खोसिए  श्रावण २०, २०७६   \n",
       "4  अमेरिकाको ओहायोमा पनि गोलीबारी, ९ जनाको मृत्यु...  श्रावण १९, २०७६   \n",
       "\n",
       "  date_english                                        description     source  \n",
       "0    2019/8/04  (अस्ट्रेलिया) — अस्ट्रेलियाले हाल प्रदान गर्दै...  ekantipur  \n",
       "1    2019/8/02  अस्ट्रेलिया — कार्यस्थलमा सुरक्षाको प्रत्याभूत...  ekantipur  \n",
       "2    2019/8/01  हेरात, अफगानिस्तान — अफगानिस्तानको फरास प्रान्...  ekantipur  \n",
       "3    2019/8/06  नयाँदिल्ली — भारत सरकारले उत्तरी राज्य जम्मु–क...  ekantipur  \n",
       "4    2019/8/05  काठमाडौँ — अमेरिकाको ओहायो राज्यको डेटन भन्ने ...  ekantipur  "
      ]
     },
     "execution_count": 6,
     "metadata": {},
     "output_type": "execute_result"
    }
   ],
   "source": [
    "cats = [\"business\", \"entertainment\", \"national\", \"sports\", \"world\"]\n",
    "df = df.query(\"category == @cats\")\n",
    "df.head()"
   ]
  },
  {
   "cell_type": "markdown",
   "metadata": {},
   "source": [
    "80-20 train test split"
   ]
  },
  {
   "cell_type": "code",
   "execution_count": 20,
   "metadata": {},
   "outputs": [],
   "source": [
    "from sklearn.model_selection import train_test_split\n",
    "idxs_tr, idxs_te = train_test_split(np.arange(len(df)), test_size = 0.2, random_state = 1, stratify = df.source.values)"
   ]
  },
  {
   "cell_type": "code",
   "execution_count": 21,
   "metadata": {},
   "outputs": [
    {
     "data": {
      "text/html": [
       "<div>\n",
       "<style scoped>\n",
       "    .dataframe tbody tr th:only-of-type {\n",
       "        vertical-align: middle;\n",
       "    }\n",
       "\n",
       "    .dataframe tbody tr th {\n",
       "        vertical-align: top;\n",
       "    }\n",
       "\n",
       "    .dataframe thead th {\n",
       "        text-align: right;\n",
       "    }\n",
       "</style>\n",
       "<table border=\"1\" class=\"dataframe\">\n",
       "  <thead>\n",
       "    <tr style=\"text-align: right;\">\n",
       "      <th></th>\n",
       "      <th>category</th>\n",
       "      <th>counts</th>\n",
       "    </tr>\n",
       "  </thead>\n",
       "  <tbody>\n",
       "    <tr>\n",
       "      <th>0</th>\n",
       "      <td>business</td>\n",
       "      <td>637</td>\n",
       "    </tr>\n",
       "    <tr>\n",
       "      <th>1</th>\n",
       "      <td>entertainment</td>\n",
       "      <td>193</td>\n",
       "    </tr>\n",
       "    <tr>\n",
       "      <th>2</th>\n",
       "      <td>national</td>\n",
       "      <td>189</td>\n",
       "    </tr>\n",
       "    <tr>\n",
       "      <th>3</th>\n",
       "      <td>sports</td>\n",
       "      <td>489</td>\n",
       "    </tr>\n",
       "    <tr>\n",
       "      <th>4</th>\n",
       "      <td>world</td>\n",
       "      <td>284</td>\n",
       "    </tr>\n",
       "  </tbody>\n",
       "</table>\n",
       "</div>"
      ],
      "text/plain": [
       "        category  counts\n",
       "0       business     637\n",
       "1  entertainment     193\n",
       "2       national     189\n",
       "3         sports     489\n",
       "4          world     284"
      ]
     },
     "execution_count": 21,
     "metadata": {},
     "output_type": "execute_result"
    }
   ],
   "source": [
    "df.iloc[idxs_tr].groupby('category').size().reset_index(name='counts')"
   ]
  },
  {
   "cell_type": "code",
   "execution_count": 22,
   "metadata": {},
   "outputs": [
    {
     "data": {
      "text/html": [
       "<div>\n",
       "<style scoped>\n",
       "    .dataframe tbody tr th:only-of-type {\n",
       "        vertical-align: middle;\n",
       "    }\n",
       "\n",
       "    .dataframe tbody tr th {\n",
       "        vertical-align: top;\n",
       "    }\n",
       "\n",
       "    .dataframe thead th {\n",
       "        text-align: right;\n",
       "    }\n",
       "</style>\n",
       "<table border=\"1\" class=\"dataframe\">\n",
       "  <thead>\n",
       "    <tr style=\"text-align: right;\">\n",
       "      <th></th>\n",
       "      <th>category</th>\n",
       "      <th>counts</th>\n",
       "    </tr>\n",
       "  </thead>\n",
       "  <tbody>\n",
       "    <tr>\n",
       "      <th>0</th>\n",
       "      <td>business</td>\n",
       "      <td>153</td>\n",
       "    </tr>\n",
       "    <tr>\n",
       "      <th>1</th>\n",
       "      <td>entertainment</td>\n",
       "      <td>57</td>\n",
       "    </tr>\n",
       "    <tr>\n",
       "      <th>2</th>\n",
       "      <td>national</td>\n",
       "      <td>54</td>\n",
       "    </tr>\n",
       "    <tr>\n",
       "      <th>3</th>\n",
       "      <td>sports</td>\n",
       "      <td>117</td>\n",
       "    </tr>\n",
       "    <tr>\n",
       "      <th>4</th>\n",
       "      <td>world</td>\n",
       "      <td>68</td>\n",
       "    </tr>\n",
       "  </tbody>\n",
       "</table>\n",
       "</div>"
      ],
      "text/plain": [
       "        category  counts\n",
       "0       business     153\n",
       "1  entertainment      57\n",
       "2       national      54\n",
       "3         sports     117\n",
       "4          world      68"
      ]
     },
     "execution_count": 22,
     "metadata": {},
     "output_type": "execute_result"
    }
   ],
   "source": [
    "df.iloc[idxs_te].groupby('category').size().reset_index(name='counts')"
   ]
  },
  {
   "cell_type": "markdown",
   "metadata": {},
   "source": [
    "## Fasttext vectors"
   ]
  },
  {
   "cell_type": "code",
   "execution_count": 97,
   "metadata": {},
   "outputs": [],
   "source": [
    "# Entire news text is too long, so we will just take first 3 sentences (lead of an article)\n",
    "def lead(txt):\n",
    "#     sents = txt.split(u'।')\n",
    "#     return u' । '.join(sents[:5])\n",
    "    return txt"
   ]
  },
  {
   "cell_type": "code",
   "execution_count": 98,
   "metadata": {},
   "outputs": [],
   "source": [
    "T_tr = df.iloc[idxs_tr].apply(lambda row: row[\"title\"] + u' । ' + lead(row[\"description\"]), axis=1).values\n",
    "T_te = df.iloc[idxs_te].apply(lambda row: row[\"title\"] + u' । ' + lead(row[\"description\"]), axis=1).values\n",
    "y_tr = df.iloc[idxs_tr].category.values\n",
    "y_te = df.iloc[idxs_te].category.values"
   ]
  },
  {
   "cell_type": "code",
   "execution_count": 99,
   "metadata": {},
   "outputs": [
    {
     "name": "stderr",
     "output_type": "stream",
     "text": [
      "\n"
     ]
    }
   ],
   "source": [
    "from fasttext.FastText import load_model, tokenize\n",
    "model = load_model('/opt/installed/var/models/cc.ne.300.bin')"
   ]
  },
  {
   "cell_type": "code",
   "execution_count": 100,
   "metadata": {},
   "outputs": [],
   "source": [
    "tokens_tr = [tokenize(txt) for txt in T_tr]\n",
    "tokens_te = [tokenize(txt) for txt in T_te]"
   ]
  },
  {
   "cell_type": "code",
   "execution_count": 101,
   "metadata": {},
   "outputs": [
    {
     "data": {
      "text/plain": [
       "('कर्णालीवासीलाई दसैंमा जहाजको चिन्ता',\n",
       " 'बाँके — दसैंमा घर जाने आशमा रहेका डोल्पाका प्रेम बुढा दिनहुँ यहाँस्थित विभिन्न विमानस्थलका कार्यालय धाउँछन् । टिकट नपाएपछि यसपालिको दसैं परिवारसँग मनाउन पाउने हो/होइन भन्ने कुराले उनलाई पिरोलेको छ ।गत आइतबार आफूसहित चारजनाको टिकट बोकेर यहाँस्थित वायु सेवा निगमको कार्यालयमा पुगेका थिए। १० दिनअघि काटेको टिकट देखाउँदै उनले भने, ‘निगमको जहाज औंशीपूर्णे पारेर आउँछ। त्यो पनि उड्ने हो कि होइन, भगवान् भरोसा बस्नुपर्छ।’ डोल्पा र सिमिकोटसम्म सडक नपुगेकाले दुर्गमका बासिन्दा महँगो टिकट काटेर जहाज चढ्न बाध्य छन्। कहिले खराब मौसमका कारण रद्द हुनु, समयमै नउड्नु, टिकट नपाउनु र व्यवस्थित उडान नहुँदा यात्रुले कष्ट भोग्नु परेको छ। दुर्गम क्षेत्रका जनताका लागि आशाको केन्द्र रहेको नेपाल वायु सेवा निगमले समेत आफ्नो नियमित उडान गर्न नसक्दा दसैंको मुखमा यात्रुले दुःख पाएका हुन्। निगमका स्टेसन म्यानेजर शंकरबहादुर केसीले विद्यार्थी र जागिरेहरू गन्तव्यमा पुग्न नसक्दा झगडा नै गर्ने गरेको सुनाए। उनीहरूलाई फ्लाइट रद्द हुनाको कारण सम्झाउन हम्मेहम्मे परेको पनि उनले बताए।  निगमको जहाजले सातामा दुईपटक उडान भर्ने भए पनि प्रायः उडान रद्द हुने गरेको छ। काठमाडौंको एयर ट्राफिक, मौसम र रुकुम, नेपालगन्ज र दुर्गम क्षेत्रको मौसम हेर्दा हेर्दै जहाज रद्द हुने गरेको छ।  कार्यालयको अभिलेखअनुसार ०७६ साउन महिनाभरि दुवैतर्फ गरी ६४ उडानको कार्यक्रम रहे पनि जम्मा ३२ पटक मात्रै उडान सफल भएको छ। इन्जिनियरिङ बेस बनाउने र थप जनशक्ति व्यवस्थापन गरी निगमको एउटा जहाजलाई नेपालगन्जमा राख्ने हो भने समस्या समाधान हुन सक्ने निगमका क्षेत्रीय कार्यालय प्रमुख प्रशान्तकुमार विकले बताए। उनका अनुसार काठमाडौं–नेपालगन्ज–काठमाडौं सेक्टरमा हप्तामा बुधबार र शनिबार गरी दुईपटक एमए–६० जहाज आउने जाने गर्छ। दसैं र तिहारमा यात्रुको चाप बढेकाले यो पर्याप्त छैन। हप्तामा तीनपटक उडान भएमा यात्रुलाई राहत हुने उनले बताए। एमए–६० (एकेक्यू) ग्राउन्डेड भएको र मर्मतसम्भार भइरहेकाले निजी विमान सेवा कम्पनीले मनपरी भाडा असुल्ने गरेको पाइएको छ, जसबाट यात्रुलाई सास्ती खेप्नुपरेको छ। एमए–६० (एकेक्यू) लाई दसैं लक्षित गरी उडाउन सकियो भने सहज हुनेछ।  अनुकूल मौसमका कारण अहिले पूर्वतर्फ (लुक्ला) आन्तरिक तथा बाह्य पर्यटकको घुइँचो छ। निजी वायुसेवाहरू बढी नाफामुखी हुने भएकाले त्यतातर्फ आकर्षित भएकाले सडक नपुगेका डोल्पा र सिमीकोटका जनताले भने सास्ती खेप्नुपरेको छ। यहाँबाट तारा, सीता र समिट एयरलाइन्सले आफ्ना अधिकांश उडान पूर्वतर्फ केन्द्रित गरेको नागरिक उड्डयन प्राधिकरण नेपालगन्जका निमित्त प्रमुख योगेन्द्रनाथ कुँवरले बताए। यात्रुहरू जसरी भए पनि काठमाडौंबाट नेपालगन्ज आउने तर यहाँबाट आफ्नो थातथलोमा जान भने धौ–धौ परेको छ।  काठमाडौंबाट नेपालगन्ज आउने यात्रुको चाप बढेसँगै निजी विमान सेवा कम्पनीले उडान थप गर्नुको सट्टा निगमको भन्दा दुई गुणा बढी भाडा लिने गरेका छन्। बुद्ध एयरले दैनिक तीन उडान गर्दै आएको छ। ‘दसैंमा वन वे प्रेसर हुन्छ,’ स्टेसन म्यानेजर विनित शाहले भने, ‘त्यसैले बाध्यताले भाडादरमा वृद्धि गर्नुपरेको छ।’ प्रकाशित : आश्विन १८, २०७६ ०९:२३',\n",
       " ['कर्णालीवासीलाई',\n",
       "  'दसैंमा',\n",
       "  'जहाजको',\n",
       "  'चिन्ता',\n",
       "  '।',\n",
       "  'बाँके',\n",
       "  '—',\n",
       "  'दसैंमा',\n",
       "  'घर',\n",
       "  'जाने',\n",
       "  'आशमा',\n",
       "  'रहेका',\n",
       "  'डोल्पाका',\n",
       "  'प्रेम',\n",
       "  'बुढा',\n",
       "  'दिनहुँ',\n",
       "  'यहाँस्थित',\n",
       "  'विभिन्न',\n",
       "  'विमानस्थलका',\n",
       "  'कार्यालय',\n",
       "  'धाउँछन्',\n",
       "  '।',\n",
       "  'टिकट',\n",
       "  'नपाएपछि',\n",
       "  'यसपालिको',\n",
       "  'दसैं',\n",
       "  'परिवारसँग',\n",
       "  'मनाउन',\n",
       "  'पाउने',\n",
       "  'हो/होइन',\n",
       "  'भन्ने',\n",
       "  'कुराले',\n",
       "  'उनलाई',\n",
       "  'पिरोलेको',\n",
       "  'छ',\n",
       "  '।गत',\n",
       "  'आइतबार',\n",
       "  'आफूसहित',\n",
       "  'चारजनाको',\n",
       "  'टिकट',\n",
       "  'बोकेर',\n",
       "  'यहाँस्थित',\n",
       "  'वायु',\n",
       "  'सेवा',\n",
       "  'निगमको',\n",
       "  'कार्यालयमा',\n",
       "  'पुगेका',\n",
       "  'थिए।',\n",
       "  '१०',\n",
       "  'दिनअघि',\n",
       "  'काटेको',\n",
       "  'टिकट',\n",
       "  'देखाउँदै',\n",
       "  'उनले',\n",
       "  'भने,',\n",
       "  '‘निगमको',\n",
       "  'जहाज',\n",
       "  'औंशीपूर्णे',\n",
       "  'पारेर',\n",
       "  'आउँछ।',\n",
       "  'त्यो',\n",
       "  'पनि',\n",
       "  'उड्ने',\n",
       "  'हो',\n",
       "  'कि',\n",
       "  'होइन,',\n",
       "  'भगवान्',\n",
       "  'भरोसा',\n",
       "  'बस्नुपर्छ।’',\n",
       "  'डोल्पा',\n",
       "  'र',\n",
       "  'सिमिकोटसम्म',\n",
       "  'सडक',\n",
       "  'नपुगेकाले',\n",
       "  'दुर्गमका',\n",
       "  'बासिन्दा',\n",
       "  'महँगो',\n",
       "  'टिकट',\n",
       "  'काटेर',\n",
       "  'जहाज',\n",
       "  'चढ्न',\n",
       "  'बाध्य',\n",
       "  'छन्।',\n",
       "  'कहिले',\n",
       "  'खराब',\n",
       "  'मौसमका',\n",
       "  'कारण',\n",
       "  'रद्द',\n",
       "  'हुनु,',\n",
       "  'समयमै',\n",
       "  'नउड्नु,',\n",
       "  'टिकट',\n",
       "  'नपाउनु',\n",
       "  'र',\n",
       "  'व्यवस्थित',\n",
       "  'उडान',\n",
       "  'नहुँदा',\n",
       "  'यात्रुले',\n",
       "  'कष्ट',\n",
       "  'भोग्नु',\n",
       "  'परेको',\n",
       "  'छ।',\n",
       "  'दुर्गम',\n",
       "  'क्षेत्रका',\n",
       "  'जनताका',\n",
       "  'लागि',\n",
       "  'आशाको',\n",
       "  'केन्द्र',\n",
       "  'रहेको',\n",
       "  'नेपाल',\n",
       "  'वायु',\n",
       "  'सेवा',\n",
       "  'निगमले',\n",
       "  'समेत',\n",
       "  'आफ्नो',\n",
       "  'नियमित',\n",
       "  'उडान',\n",
       "  'गर्न',\n",
       "  'नसक्दा',\n",
       "  'दसैंको',\n",
       "  'मुखमा',\n",
       "  'यात्रुले',\n",
       "  'दुःख',\n",
       "  'पाएका',\n",
       "  'हुन्।',\n",
       "  'निगमका',\n",
       "  'स्टेसन',\n",
       "  'म्यानेजर',\n",
       "  'शंकरबहादुर',\n",
       "  'केसीले',\n",
       "  'विद्यार्थी',\n",
       "  'र',\n",
       "  'जागिरेहरू',\n",
       "  'गन्तव्यमा',\n",
       "  'पुग्न',\n",
       "  'नसक्दा',\n",
       "  'झगडा',\n",
       "  'नै',\n",
       "  'गर्ने',\n",
       "  'गरेको',\n",
       "  'सुनाए।',\n",
       "  'उनीहरूलाई',\n",
       "  'फ्लाइट',\n",
       "  'रद्द',\n",
       "  'हुनाको',\n",
       "  'कारण',\n",
       "  'सम्झाउन',\n",
       "  'हम्मेहम्मे',\n",
       "  'परेको',\n",
       "  'पनि',\n",
       "  'उनले',\n",
       "  'बताए।',\n",
       "  'निगमको',\n",
       "  'जहाजले',\n",
       "  'सातामा',\n",
       "  'दुईपटक',\n",
       "  'उडान',\n",
       "  'भर्ने',\n",
       "  'भए',\n",
       "  'पनि',\n",
       "  'प्रायः',\n",
       "  'उडान',\n",
       "  'रद्द',\n",
       "  'हुने',\n",
       "  'गरेको',\n",
       "  'छ।',\n",
       "  'काठमाडौंको',\n",
       "  'एयर',\n",
       "  'ट्राफिक,',\n",
       "  'मौसम',\n",
       "  'र',\n",
       "  'रुकुम,',\n",
       "  'नेपालगन्ज',\n",
       "  'र',\n",
       "  'दुर्गम',\n",
       "  'क्षेत्रको',\n",
       "  'मौसम',\n",
       "  'हेर्दा',\n",
       "  'हेर्दै',\n",
       "  'जहाज',\n",
       "  'रद्द',\n",
       "  'हुने',\n",
       "  'गरेको',\n",
       "  'छ।',\n",
       "  'कार्यालयको',\n",
       "  'अभिलेखअनुसार',\n",
       "  '०७६',\n",
       "  'साउन',\n",
       "  'महिनाभरि',\n",
       "  'दुवैतर्फ',\n",
       "  'गरी',\n",
       "  '६४',\n",
       "  'उडानको',\n",
       "  'कार्यक्रम',\n",
       "  'रहे',\n",
       "  'पनि',\n",
       "  'जम्मा',\n",
       "  '३२',\n",
       "  'पटक',\n",
       "  'मात्रै',\n",
       "  'उडान',\n",
       "  'सफल',\n",
       "  'भएको',\n",
       "  'छ।',\n",
       "  'इन्जिनियरिङ',\n",
       "  'बेस',\n",
       "  'बनाउने',\n",
       "  'र',\n",
       "  'थप',\n",
       "  'जनशक्ति',\n",
       "  'व्यवस्थापन',\n",
       "  'गरी',\n",
       "  'निगमको',\n",
       "  'एउटा',\n",
       "  'जहाजलाई',\n",
       "  'नेपालगन्जमा',\n",
       "  'राख्ने',\n",
       "  'हो',\n",
       "  'भने',\n",
       "  'समस्या',\n",
       "  'समाधान',\n",
       "  'हुन',\n",
       "  'सक्ने',\n",
       "  'निगमका',\n",
       "  'क्षेत्रीय',\n",
       "  'कार्यालय',\n",
       "  'प्रमुख',\n",
       "  'प्रशान्तकुमार',\n",
       "  'विकले',\n",
       "  'बताए।',\n",
       "  'उनका',\n",
       "  'अनुसार',\n",
       "  'काठमाडौं–नेपालगन्ज–काठमाडौं',\n",
       "  'सेक्टरमा',\n",
       "  'हप्तामा',\n",
       "  'बुधबार',\n",
       "  'र',\n",
       "  'शनिबार',\n",
       "  'गरी',\n",
       "  'दुईपटक',\n",
       "  'एमए–६०',\n",
       "  'जहाज',\n",
       "  'आउने',\n",
       "  'जाने',\n",
       "  'गर्छ।',\n",
       "  'दसैं',\n",
       "  'र',\n",
       "  'तिहारमा',\n",
       "  'यात्रुको',\n",
       "  'चाप',\n",
       "  'बढेकाले',\n",
       "  'यो',\n",
       "  'पर्याप्त',\n",
       "  'छैन।',\n",
       "  'हप्तामा',\n",
       "  'तीनपटक',\n",
       "  'उडान',\n",
       "  'भएमा',\n",
       "  'यात्रुलाई',\n",
       "  'राहत',\n",
       "  'हुने',\n",
       "  'उनले',\n",
       "  'बताए।',\n",
       "  'एमए–६०',\n",
       "  '(एकेक्यू)',\n",
       "  'ग्राउन्डेड',\n",
       "  'भएको',\n",
       "  'र',\n",
       "  'मर्मतसम्भार',\n",
       "  'भइरहेकाले',\n",
       "  'निजी',\n",
       "  'विमान',\n",
       "  'सेवा',\n",
       "  'कम्पनीले',\n",
       "  'मनपरी',\n",
       "  'भाडा',\n",
       "  'असुल्ने',\n",
       "  'गरेको',\n",
       "  'पाइएको',\n",
       "  'छ,',\n",
       "  'जसबाट',\n",
       "  'यात्रुलाई',\n",
       "  'सास्ती',\n",
       "  'खेप्नुपरेको',\n",
       "  'छ।',\n",
       "  'एमए–६०',\n",
       "  '(एकेक्यू)',\n",
       "  'लाई',\n",
       "  'दसैं',\n",
       "  'लक्षित',\n",
       "  'गरी',\n",
       "  'उडाउन',\n",
       "  'सकियो',\n",
       "  'भने',\n",
       "  'सहज',\n",
       "  'हुनेछ।',\n",
       "  'अनुकूल',\n",
       "  'मौसमका',\n",
       "  'कारण',\n",
       "  'अहिले',\n",
       "  'पूर्वतर्फ',\n",
       "  '(लुक्ला)',\n",
       "  'आन्तरिक',\n",
       "  'तथा',\n",
       "  'बाह्य',\n",
       "  'पर्यटकको',\n",
       "  'घुइँचो',\n",
       "  'छ।',\n",
       "  'निजी',\n",
       "  'वायुसेवाहरू',\n",
       "  'बढी',\n",
       "  'नाफामुखी',\n",
       "  'हुने',\n",
       "  'भएकाले',\n",
       "  'त्यतातर्फ',\n",
       "  'आकर्षित',\n",
       "  'भएकाले',\n",
       "  'सडक',\n",
       "  'नपुगेका',\n",
       "  'डोल्पा',\n",
       "  'र',\n",
       "  'सिमीकोटका',\n",
       "  'जनताले',\n",
       "  'भने',\n",
       "  'सास्ती',\n",
       "  'खेप्नुपरेको',\n",
       "  'छ।',\n",
       "  'यहाँबाट',\n",
       "  'तारा,',\n",
       "  'सीता',\n",
       "  'र',\n",
       "  'समिट',\n",
       "  'एयरलाइन्सले',\n",
       "  'आफ्ना',\n",
       "  'अधिकांश',\n",
       "  'उडान',\n",
       "  'पूर्वतर्फ',\n",
       "  'केन्द्रित',\n",
       "  'गरेको',\n",
       "  'नागरिक',\n",
       "  'उड्डयन',\n",
       "  'प्राधिकरण',\n",
       "  'नेपालगन्जका',\n",
       "  'निमित्त',\n",
       "  'प्रमुख',\n",
       "  'योगेन्द्रनाथ',\n",
       "  'कुँवरले',\n",
       "  'बताए।',\n",
       "  'यात्रुहरू',\n",
       "  'जसरी',\n",
       "  'भए',\n",
       "  'पनि',\n",
       "  'काठमाडौंबाट',\n",
       "  'नेपालगन्ज',\n",
       "  'आउने',\n",
       "  'तर',\n",
       "  'यहाँबाट',\n",
       "  'आफ्नो',\n",
       "  'थातथलोमा',\n",
       "  'जान',\n",
       "  'भने',\n",
       "  'धौ–धौ',\n",
       "  'परेको',\n",
       "  'छ।',\n",
       "  'काठमाडौंबाट',\n",
       "  'नेपालगन्ज',\n",
       "  'आउने',\n",
       "  'यात्रुको',\n",
       "  'चाप',\n",
       "  'बढेसँगै',\n",
       "  'निजी',\n",
       "  'विमान',\n",
       "  'सेवा',\n",
       "  'कम्पनीले',\n",
       "  'उडान',\n",
       "  'थप',\n",
       "  'गर्नुको',\n",
       "  'सट्टा',\n",
       "  'निगमको',\n",
       "  'भन्दा',\n",
       "  'दुई',\n",
       "  'गुणा',\n",
       "  'बढी',\n",
       "  'भाडा',\n",
       "  'लिने',\n",
       "  'गरेका',\n",
       "  'छन्।',\n",
       "  'बुद्ध',\n",
       "  'एयरले',\n",
       "  'दैनिक',\n",
       "  'तीन',\n",
       "  'उडान',\n",
       "  'गर्दै',\n",
       "  'आएको',\n",
       "  'छ।',\n",
       "  '‘दसैंमा',\n",
       "  'वन',\n",
       "  'वे',\n",
       "  'प्रेसर',\n",
       "  'हुन्छ,’',\n",
       "  'स्टेसन',\n",
       "  'म्यानेजर',\n",
       "  'विनित',\n",
       "  'शाहले',\n",
       "  'भने,',\n",
       "  '‘त्यसैले',\n",
       "  'बाध्यताले',\n",
       "  'भाडादरमा',\n",
       "  'वृद्धि',\n",
       "  'गर्नुपरेको',\n",
       "  'छ।’',\n",
       "  'प्रकाशित',\n",
       "  ':',\n",
       "  'आश्विन',\n",
       "  '१८,',\n",
       "  '२०७६',\n",
       "  '०९:२३'])"
      ]
     },
     "execution_count": 101,
     "metadata": {},
     "output_type": "execute_result"
    }
   ],
   "source": [
    "df.iloc[idxs_te[0]].title, lead(df.iloc[idxs_te[0]].description), tokens_te[0]"
   ]
  },
  {
   "cell_type": "code",
   "execution_count": 102,
   "metadata": {},
   "outputs": [
    {
     "data": {
      "text/plain": [
       "'बाँके — दसैंमा घर जाने आशमा रहेका डोल्पाका प्रेम बुढा दिनहुँ यहाँस्थित विभिन्न विमानस्थलका कार्यालय धाउँछन् । टिकट नपाएपछि यसपालिको दसैं परिवारसँग मनाउन पाउने हो/होइन भन्ने कुराले उनलाई पिरोलेको छ ।गत आइतबार आफूसहित चारजनाको टिकट बोकेर यहाँस्थित वायु सेवा निगमको कार्यालयमा पुगेका थिए। १० दिनअघि काटेको टिकट देखाउँदै उनले भने, ‘निगमको जहाज औंशीपूर्णे पारेर आउँछ। त्यो पनि उड्ने हो कि होइन, भगवान् भरोसा बस्नुपर्छ।’ डोल्पा र सिमिकोटसम्म सडक नपुगेकाले दुर्गमका बासिन्दा महँगो टिकट काटेर जहाज चढ्न बाध्य छन्। कहिले खराब मौसमका कारण रद्द हुनु, समयमै नउड्नु, टिकट नपाउनु र व्यवस्थित उडान नहुँदा यात्रुले कष्ट भोग्नु परेको छ। दुर्गम क्षेत्रका जनताका लागि आशाको केन्द्र रहेको नेपाल वायु सेवा निगमले समेत आफ्नो नियमित उडान गर्न नसक्दा दसैंको मुखमा यात्रुले दुःख पाएका हुन्। निगमका स्टेसन म्यानेजर शंकरबहादुर केसीले विद्यार्थी र जागिरेहरू गन्तव्यमा पुग्न नसक्दा झगडा नै गर्ने गरेको सुनाए। उनीहरूलाई फ्लाइट रद्द हुनाको कारण सम्झाउन हम्मेहम्मे परेको पनि उनले बताए।  निगमको जहाजले सातामा दुईपटक उडान भर्ने भए पनि प्रायः उडान रद्द हुने गरेको छ। काठमाडौंको एयर ट्राफिक, मौसम र रुकुम, नेपालगन्ज र दुर्गम क्षेत्रको मौसम हेर्दा हेर्दै जहाज रद्द हुने गरेको छ।  कार्यालयको अभिलेखअनुसार ०७६ साउन महिनाभरि दुवैतर्फ गरी ६४ उडानको कार्यक्रम रहे पनि जम्मा ३२ पटक मात्रै उडान सफल भएको छ। इन्जिनियरिङ बेस बनाउने र थप जनशक्ति व्यवस्थापन गरी निगमको एउटा जहाजलाई नेपालगन्जमा राख्ने हो भने समस्या समाधान हुन सक्ने निगमका क्षेत्रीय कार्यालय प्रमुख प्रशान्तकुमार विकले बताए। उनका अनुसार काठमाडौं–नेपालगन्ज–काठमाडौं सेक्टरमा हप्तामा बुधबार र शनिबार गरी दुईपटक एमए–६० जहाज आउने जाने गर्छ। दसैं र तिहारमा यात्रुको चाप बढेकाले यो पर्याप्त छैन। हप्तामा तीनपटक उडान भएमा यात्रुलाई राहत हुने उनले बताए। एमए–६० (एकेक्यू) ग्राउन्डेड भएको र मर्मतसम्भार भइरहेकाले निजी विमान सेवा कम्पनीले मनपरी भाडा असुल्ने गरेको पाइएको छ, जसबाट यात्रुलाई सास्ती खेप्नुपरेको छ। एमए–६० (एकेक्यू) लाई दसैं लक्षित गरी उडाउन सकियो भने सहज हुनेछ।  अनुकूल मौसमका कारण अहिले पूर्वतर्फ (लुक्ला) आन्तरिक तथा बाह्य पर्यटकको घुइँचो छ। निजी वायुसेवाहरू बढी नाफामुखी हुने भएकाले त्यतातर्फ आकर्षित भएकाले सडक नपुगेका डोल्पा र सिमीकोटका जनताले भने सास्ती खेप्नुपरेको छ। यहाँबाट तारा, सीता र समिट एयरलाइन्सले आफ्ना अधिकांश उडान पूर्वतर्फ केन्द्रित गरेको नागरिक उड्डयन प्राधिकरण नेपालगन्जका निमित्त प्रमुख योगेन्द्रनाथ कुँवरले बताए। यात्रुहरू जसरी भए पनि काठमाडौंबाट नेपालगन्ज आउने तर यहाँबाट आफ्नो थातथलोमा जान भने धौ–धौ परेको छ।  काठमाडौंबाट नेपालगन्ज आउने यात्रुको चाप बढेसँगै निजी विमान सेवा कम्पनीले उडान थप गर्नुको सट्टा निगमको भन्दा दुई गुणा बढी भाडा लिने गरेका छन्। बुद्ध एयरले दैनिक तीन उडान गर्दै आएको छ। ‘दसैंमा वन वे प्रेसर हुन्छ,’ स्टेसन म्यानेजर विनित शाहले भने, ‘त्यसैले बाध्यताले भाडादरमा वृद्धि गर्नुपरेको छ।’ प्रकाशित : आश्विन १८, २०७६ ०९:२३'"
      ]
     },
     "execution_count": 102,
     "metadata": {},
     "output_type": "execute_result"
    }
   ],
   "source": [
    "lead(df.iloc[idxs_te[0]].description)"
   ]
  },
  {
   "cell_type": "code",
   "execution_count": 103,
   "metadata": {},
   "outputs": [
    {
     "data": {
      "text/plain": [
       "((1792, 300), (449, 300))"
      ]
     },
     "execution_count": 103,
     "metadata": {},
     "output_type": "execute_result"
    }
   ],
   "source": [
    "X_tr = np.array([ np.mean(np.array([ model.get_word_vector(w) for w in article ] ), axis = 0 ) for article in T_tr] )\n",
    "X_te = np.array([ np.mean(np.array([ model.get_word_vector(w) for w in article ] ), axis = 0 ) for article in T_te] )\n",
    "X_tr.shape, X_te.shape"
   ]
  },
  {
   "cell_type": "code",
   "execution_count": 104,
   "metadata": {},
   "outputs": [],
   "source": [
    "from sklearn.svm import SVC\n",
    "from sklearn.model_selection import GridSearchCV\n",
    "from sklearn.metrics import balanced_accuracy_score, make_scorer\n",
    "bacc = make_scorer(balanced_accuracy_score)"
   ]
  },
  {
   "cell_type": "code",
   "execution_count": 105,
   "metadata": {},
   "outputs": [
    {
     "name": "stdout",
     "output_type": "stream",
     "text": [
      "SVC(C=100, cache_size=200, class_weight=None, coef0=0.0,\n",
      "    decision_function_shape='ovr', degree=3, gamma=4.0, kernel='rbf',\n",
      "    max_iter=-1, probability=False, random_state=None, shrinking=True,\n",
      "    tol=0.001, verbose=False)\n",
      "0.7728285077951003\n"
     ]
    }
   ],
   "source": [
    "params = {\"gamma\": [0.5, 1.0, 1.5,  2.0, 4.0], \"C\": [0.1, 1, 10, 100, 1000, 10000]}\n",
    "svm = GridSearchCV(SVC(kernel = \"rbf\"), params, n_jobs = 6, cv = 3)\n",
    "svm.fit(X_tr, y_tr)\n",
    "print(svm.best_estimator_)\n",
    "print(svm.score(X_te, y_te))"
   ]
  },
  {
   "cell_type": "code",
   "execution_count": 106,
   "metadata": {},
   "outputs": [
    {
     "name": "stdout",
     "output_type": "stream",
     "text": [
      "SVC(C=1000, cache_size=200, class_weight=None, coef0=0.0,\n",
      "    decision_function_shape='ovr', degree=3, gamma='auto_deprecated',\n",
      "    kernel='linear', max_iter=-1, probability=False, random_state=None,\n",
      "    shrinking=True, tol=0.001, verbose=False)\n",
      "0.7683741648106904\n"
     ]
    }
   ],
   "source": [
    "params = {\"C\": [0.1, 1, 10, 100, 1000, 10000]}\n",
    "svml = GridSearchCV(SVC(kernel = \"linear\"), params, n_jobs = 6, cv = 3)\n",
    "svml.fit(X_tr, y_tr)\n",
    "print(svml.best_estimator_)\n",
    "print(svml.score(X_te, y_te))"
   ]
  },
  {
   "cell_type": "code",
   "execution_count": 107,
   "metadata": {},
   "outputs": [
    {
     "name": "stdout",
     "output_type": "stream",
     "text": [
      "LogisticRegression(C=10000, class_weight=None, dual=False, fit_intercept=True,\n",
      "                   intercept_scaling=1, l1_ratio=None, max_iter=100,\n",
      "                   multi_class='auto', n_jobs=None, penalty='l2',\n",
      "                   random_state=None, solver='liblinear', tol=0.0001, verbose=0,\n",
      "                   warm_start=False)\n",
      "0.7817371937639198\n"
     ]
    }
   ],
   "source": [
    "from sklearn.linear_model import LogisticRegression\n",
    "params = {\"C\": [0.1, 1, 10, 100, 1000, 10000]}\n",
    "lr = LogisticRegression(penalty = \"l2\", solver = \"liblinear\", multi_class = \"auto\")\n",
    "logreg = GridSearchCV(lr, params, n_jobs = 6, cv = 3)\n",
    "logreg.fit(X_tr, y_tr)\n",
    "print(logreg.best_estimator_)\n",
    "print(logreg.score(X_te, y_te))"
   ]
  },
  {
   "cell_type": "markdown",
   "metadata": {},
   "source": [
    "## Clustering of ekantipur data subset (5 categories)"
   ]
  },
  {
   "cell_type": "code",
   "execution_count": 108,
   "metadata": {},
   "outputs": [
    {
     "data": {
      "text/plain": [
       "(2241, 300)"
      ]
     },
     "execution_count": 108,
     "metadata": {},
     "output_type": "execute_result"
    }
   ],
   "source": [
    "X_all = np.concatenate((X_tr, X_te) )\n",
    "y_all = np.concatenate((y_tr, y_te) )\n",
    "X_all.shape"
   ]
  },
  {
   "cell_type": "code",
   "execution_count": 109,
   "metadata": {},
   "outputs": [],
   "source": [
    "from sklearn.cluster import KMeans, SpectralClustering"
   ]
  },
  {
   "cell_type": "code",
   "execution_count": 110,
   "metadata": {},
   "outputs": [],
   "source": [
    "kmeans = KMeans(n_clusters=5, random_state=0).fit(X_all)\n",
    "spectral = SpectralClustering(n_clusters=10, \n",
    "                                assign_labels=\"discretize\",\n",
    "                                random_state=0).fit(X_all)"
   ]
  },
  {
   "cell_type": "code",
   "execution_count": 111,
   "metadata": {},
   "outputs": [
    {
     "data": {
      "text/plain": [
       "(0.16281788289370858, 0.1807014787367899)"
      ]
     },
     "execution_count": 111,
     "metadata": {},
     "output_type": "execute_result"
    }
   ],
   "source": [
    "from sklearn.metrics.cluster import *\n",
    "homogeneity_score(y_all, kmeans.labels_), homogeneity_score(y_all, spectral.labels_)"
   ]
  },
  {
   "cell_type": "code",
   "execution_count": 112,
   "metadata": {},
   "outputs": [
    {
     "data": {
      "text/plain": [
       "(0.2438228373769843, 0.2706038580085443)"
      ]
     },
     "execution_count": 112,
     "metadata": {},
     "output_type": "execute_result"
    }
   ],
   "source": [
    "mutual_info_score(y_all, kmeans.labels_), mutual_info_score(y_all, spectral.labels_)"
   ]
  },
  {
   "cell_type": "code",
   "execution_count": 113,
   "metadata": {},
   "outputs": [
    {
     "data": {
      "text/plain": [
       "(0.18571433381826377, 0.12284603560044073)"
      ]
     },
     "execution_count": 113,
     "metadata": {},
     "output_type": "execute_result"
    }
   ],
   "source": [
    "completeness_score(y_all, kmeans.labels_), completeness_score(y_all, spectral.labels_)"
   ]
  },
  {
   "cell_type": "markdown",
   "metadata": {},
   "source": [
    "## Clustering entire data"
   ]
  },
  {
   "cell_type": "code",
   "execution_count": null,
   "metadata": {},
   "outputs": [],
   "source": [
    "tokens = data.apply(lambda row: row[\"title\"] + u' । ' + lead(row[\"description\"]), axis=1).values\n",
    "X = np.array([ np.mean(np.array([ model.get_word_vector(w) for w in article ] ), axis = 0 ) for article in tokens] )"
   ]
  },
  {
   "cell_type": "code",
   "execution_count": null,
   "metadata": {},
   "outputs": [],
   "source": [
    "spectral = SpectralClustering(n_clusters=100, \n",
    "                                assign_labels=\"discretize\",\n",
    "                                random_state=0).fit(X)"
   ]
  },
  {
   "cell_type": "code",
   "execution_count": null,
   "metadata": {},
   "outputs": [],
   "source": []
  }
 ],
 "metadata": {
  "kernelspec": {
   "display_name": "Python 3",
   "language": "python",
   "name": "python3"
  },
  "language_info": {
   "codemirror_mode": {
    "name": "ipython",
    "version": 3
   },
   "file_extension": ".py",
   "mimetype": "text/x-python",
   "name": "python",
   "nbconvert_exporter": "python",
   "pygments_lexer": "ipython3",
   "version": "3.7.5"
  }
 },
 "nbformat": 4,
 "nbformat_minor": 2
}
